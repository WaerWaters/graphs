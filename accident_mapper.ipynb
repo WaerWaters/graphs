{
 "cells": [
  {
   "cell_type": "code",
   "execution_count": 4,
   "metadata": {},
   "outputs": [
    {
     "ename": "ModuleNotFoundError",
     "evalue": "No module named 'Point'",
     "output_type": "error",
     "traceback": [
      "\u001b[1;31m---------------------------------------------------------------------------\u001b[0m",
      "\u001b[1;31mModuleNotFoundError\u001b[0m                       Traceback (most recent call last)",
      "Cell \u001b[1;32mIn[4], line 7\u001b[0m\n\u001b[0;32m      5\u001b[0m \u001b[38;5;28;01mimport\u001b[39;00m \u001b[38;5;21;01mfolium\u001b[39;00m\u001b[38;5;21;01m.\u001b[39;00m\u001b[38;5;21;01mplugins\u001b[39;00m\n\u001b[0;32m      6\u001b[0m \u001b[38;5;28;01mimport\u001b[39;00m \u001b[38;5;21;01mgeopandas\u001b[39;00m \u001b[38;5;28;01mas\u001b[39;00m \u001b[38;5;21;01mgpd\u001b[39;00m\n\u001b[1;32m----> 7\u001b[0m \u001b[38;5;28;01mimport\u001b[39;00m \u001b[38;5;21;01mPoint\u001b[39;00m\n",
      "\u001b[1;31mModuleNotFoundError\u001b[0m: No module named 'Point'"
     ]
    }
   ],
   "source": [
    "import pprint as pp\n",
    "import pandas as pd\n",
    "import os\n",
    "import folium\n",
    "import folium.plugins\n",
    "import geopandas as gpd\n",
    "from shapely.geometry import Point\n"
   ]
  },
  {
   "cell_type": "code",
   "execution_count": null,
   "metadata": {},
   "outputs": [],
   "source": [
    "LA_data = pd.read_csv('analysis_data/LA_data.csv')\n",
    "\n",
    "gdf = gpd.read_file(r\"data\\network['Los Angeles , California, USA'].gpkg\", layer='nodes')\n"
   ]
  },
  {
   "cell_type": "code",
   "execution_count": null,
   "metadata": {},
   "outputs": [
    {
     "ename": "NameError",
     "evalue": "name 'LA_data' is not defined",
     "output_type": "error",
     "traceback": [
      "\u001b[1;31m---------------------------------------------------------------------------\u001b[0m",
      "\u001b[1;31mNameError\u001b[0m                                 Traceback (most recent call last)",
      "Cell \u001b[1;32mIn[2], line 2\u001b[0m\n\u001b[0;32m      1\u001b[0m \u001b[38;5;66;03m# Create the geometry column using the Start_Lat and Start_Lng columns\u001b[39;00m\n\u001b[1;32m----> 2\u001b[0m geometry \u001b[38;5;241m=\u001b[39m [Point(xy) \u001b[38;5;28;01mfor\u001b[39;00m xy \u001b[38;5;129;01min\u001b[39;00m \u001b[38;5;28mzip\u001b[39m(\u001b[43mLA_data\u001b[49m[\u001b[38;5;124m'\u001b[39m\u001b[38;5;124mStart_Lng\u001b[39m\u001b[38;5;124m'\u001b[39m], LA_data[\u001b[38;5;124m'\u001b[39m\u001b[38;5;124mStart_Lat\u001b[39m\u001b[38;5;124m'\u001b[39m])]\n\u001b[0;32m      4\u001b[0m \u001b[38;5;66;03m# Create the GeoDataFrame\u001b[39;00m\n\u001b[0;32m      5\u001b[0m LA_gdf \u001b[38;5;241m=\u001b[39m gpd\u001b[38;5;241m.\u001b[39mGeoDataFrame(LA_data, geometry\u001b[38;5;241m=\u001b[39mgeometry)\n",
      "\u001b[1;31mNameError\u001b[0m: name 'LA_data' is not defined"
     ]
    }
   ],
   "source": [
    "# Create the geometry column using the Start_Lat and Start_Lng columns\n",
    "geometry = [Point(xy) for xy in zip(LA_data['Start_Lng'], LA_data['Start_Lat'])]\n",
    "\n",
    "# Create the GeoDataFrame\n",
    "LA_gdf = gpd.GeoDataFrame(LA_data, geometry=geometry)\n",
    "\n",
    "\n",
    "# Create projection accurate to Los Angeles\n",
    "LA_gdf.set_crs(epsg=4326, inplace=True)\n",
    "LA_gdf = LA_gdf.to_crs(epsg=6423)\n",
    "gdf.to_crs(epsg=6423, inplace=True)\n",
    "\n",
    "\n",
    "\n"
   ]
  },
  {
   "cell_type": "code",
   "execution_count": null,
   "metadata": {},
   "outputs": [],
   "source": [
    "\n",
    "def add_accident_counts(gdf, LA_gdf, range_):\n",
    "    gdf = gdf.copy()\n",
    "    LA_gdf = LA_gdf.copy()\n",
    "    gdf['geometry'] = gdf.geometry.buffer(range_)\n",
    "    joined = gpd.sjoin(LA_gdf, gdf, how='inner', op='intersects')\n",
    "    \n",
    "    def nearest_intersection(accident_ID):\n",
    "        intersections = joined[joined['ID'] == accident_ID].index_right\n",
    "        if not intersections.empty:\n",
    "            nearest = min(intersections, key=lambda intersection: LA_gdf[LA_gdf['ID'] == accident_ID].geometry.distance(gdf.loc[intersection].geometry).min())\n",
    "            return nearest\n",
    "        else:\n",
    "            return None\n",
    "\n",
    "    LA_gdf['nearest_intersection'] = LA_gdf['ID'].apply(nearest_intersection)\n",
    "    accident_counts = LA_gdf['nearest_intersection'].value_counts()\n",
    "    gdf['accident_count'] = gdf.index.map(accident_counts.to_dict())\n",
    "    gdf['accident_count'] = gdf['accident_count'].fillna(0)\n",
    "    gdf.to_file(f'analysis_data/intersections_with_accidents_range{range_}.gpkg', driver='GPKG')\n",
    "\n",
    "range_list = [5]\n",
    "\n",
    "for i in range_list:\n",
    "    add_accident_counts(gdf, LA_gdf, i)\n",
    "    print(f'Range {i} meters done')\n",
    "\n"
   ]
  }
 ],
 "metadata": {
  "kernelspec": {
   "display_name": "Python 3",
   "language": "python",
   "name": "python3"
  },
  "language_info": {
   "codemirror_mode": {
    "name": "ipython",
    "version": 3
   },
   "file_extension": ".py",
   "mimetype": "text/x-python",
   "name": "python",
   "nbconvert_exporter": "python",
   "pygments_lexer": "ipython3",
   "version": "3.10.7"
  }
 },
 "nbformat": 4,
 "nbformat_minor": 2
}
