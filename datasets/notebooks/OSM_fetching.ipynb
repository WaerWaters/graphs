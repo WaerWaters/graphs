{
 "cells": [
  {
   "cell_type": "markdown",
   "metadata": {},
   "source": [
    "# OpenStreetMap\n",
    "## Downloading data from OpenStreetMap\n",
    "*Written by - Rasmus Bergman rbvp20@student.aau.dk*\n",
    "\n",
    "This is a notebook for downloading the data needed from OpenStreetMap.\n",
    "\n",
    "It downloads and saves a graph of the entire road network of Denmark. This may take a while."
   ]
  },
  {
   "cell_type": "code",
   "execution_count": 3,
   "metadata": {},
   "outputs": [],
   "source": [
    "# Import libraries\n",
    "import os\n",
    "import osmnx as ox\n",
    "import constants as c\n",
    "import geopandas as gpd\n",
    "# Config\n",
    "ox.settings.console_log = True\n",
    "ox.settings.use_cache = True\n",
    "\n",
    "# Parameters\n",
    "EDGE_CHUNK_SIZE = 100_000"
   ]
  },
  {
   "cell_type": "code",
   "execution_count": null,
   "metadata": {},
   "outputs": [],
   "source": [
    "edges = gpd.read_file(c.EDGE_GDF_PATH)\n",
    "\n",
    "# Split up the edges into smaller chunks\n",
    "\n",
    "# Get the number of chunks\n",
    "num_chunks = len(edges) // EDGE_CHUNK_SIZE + 1\n",
    "\n",
    "# Split the edges into chunks\n",
    "for i in range(num_chunks):\n",
    "    chunk = edges.iloc[i * EDGE_CHUNK_SIZE: (i + 1) * EDGE_CHUNK_SIZE]\n",
    "    chunk.to_file(c.EDGE_GDF_PATH.replace('.geojson', f'_{i}.geojson'), driver='GeoJSON')\n",
    "    print(f'Chunk {i} saved')"
   ]
  },
  {
   "cell_type": "code",
   "execution_count": 6,
   "metadata": {},
   "outputs": [
    {
     "name": "stdout",
     "output_type": "stream",
     "text": [
      "\n",
      "Loading simplified road network\n",
      "- Already exists\n",
      "\n",
      "Loading full road network\n",
      "- Already exists\n",
      "\n",
      "Loading node GeoDataFrame\n",
      "- Already exists\n",
      "\n",
      "Loading edge GeoDataFrame\n",
      "- Already exists\n"
     ]
    }
   ],
   "source": [
    "# Downloading and saving the road network\n",
    "\n",
    "print(\"\\nLoading simplified road network\")\n",
    "if not os.path.exists(c.SIMPLE_ROAD_NETWORK_PATH):\n",
    "    print(\"- Downloading simplified road network\")\n",
    "    G = ox.graph_from_place('Denmark', network_type='drive', simplify=True)\n",
    "    print(\"- Saving\")\n",
    "    ox.save_graphml(G, c.SIMPLE_ROAD_NETWORK_PATH)\n",
    "    print(\"- Saved\")\n",
    "else:\n",
    "    print(\"- Already exists\")\n",
    "G = None\n",
    "\n",
    "print(\"\\nLoading full road network\")\n",
    "if not os.path.exists(c.FULL_ROAD_NETWORK_PATH):\n",
    "    print(\"- Downloading full road network, this may take quite a while (eg. 30 - 60 minutes)\")\n",
    "    G = ox.graph_from_place('Denmark', network_type='drive', simplify=False)\n",
    "    print(\"- Saving\")\n",
    "    ox.save_graphml(G, c.FULL_ROAD_NETWORK_PATH)\n",
    "    print(\"- Saved\")\n",
    "else:\n",
    "    print(\"- Already exists\")\n",
    "\n",
    "\n",
    "print(\"\\nLoading node GeoDataFrame\")\n",
    "if not os.path.exists(c.NODE_GDF_PATH):\n",
    "    if G is None:\n",
    "        print(\"- Loading full road network\")\n",
    "        G = ox.load_graphml(c.FULL_ROAD_NETWORK_PATH)\n",
    "    print(\"- Transforming to GeoDataFrame\")\n",
    "    node_gdf = ox.graph_to_gdfs(G, edges=False)\n",
    "    print(\"- Saving\")\n",
    "    node_gdf.to_file(c.NODE_GDF_PATH, driver='GeoJSON')\n",
    "    print(\"- Saved\")\n",
    "else:\n",
    "    print(\"- Already exists\")\n",
    "\n",
    "print(\"\\nLoading edge GeoDataFrame\")\n",
    "if not os.path.exists(c.EDGE_GDF_PATH):\n",
    "    if G is None:\n",
    "        print(\"- Loading full road network\")\n",
    "        G = ox.load_graphml(c.FULL_ROAD_NETWORK_PATH)\n",
    "    print(\"- Transforming to GeoDataFrame\")\n",
    "    edge_gdf = ox.graph_to_gdfs(G, nodes=False)\n",
    "    print(\"- Saving\")\n",
    "    edge_gdf.to_file(c.EDGE_GDF_PATH, driver='GeoJSON')\n",
    "    print(\"- Saved\")\n",
    "else:\n",
    "    print(\"- Already exists\")\n"
   ]
  }
 ],
 "metadata": {
  "kernelspec": {
   "display_name": ".venv",
   "language": "python",
   "name": "python3"
  },
  "language_info": {
   "codemirror_mode": {
    "name": "ipython",
    "version": 3
   },
   "file_extension": ".py",
   "mimetype": "text/x-python",
   "name": "python",
   "nbconvert_exporter": "python",
   "pygments_lexer": "ipython3",
   "version": "3.11.6"
  }
 },
 "nbformat": 4,
 "nbformat_minor": 2
}
