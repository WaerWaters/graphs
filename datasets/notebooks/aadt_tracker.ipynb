{
 "cells": [
  {
   "cell_type": "markdown",
   "metadata": {},
   "source": [
    "# AADT tracker\n",
    "### Combining OpenStreetMap with Mastra\n",
    "*Written by - Rasmus Bergman rbvp20@student.aau.dk*\n",
    "\n",
    "This is a notebook for combining the data from OpenStreetMap and Mastra to create an AADT attribute for each node in the OpenStreetMap graph\n",
    "\n",
    "### **Prerequisits**\n",
    "- Running mastra.ipynb\n",
    "- Running OSM_fetching.ipynb"
   ]
  },
  {
   "cell_type": "code",
   "execution_count": 1,
   "metadata": {},
   "outputs": [],
   "source": [
    "# Import libraries\n",
    "import geopandas as gpd\n",
    "import osmnx as ox\n",
    "import constants as c\n",
    "# Config\n",
    "ox.settings.console_log = True\n",
    "ox.settings.use_cache = True\n",
    "\n",
    "# Parameters\n",
    "ACCIDENT_RADIUS_METERS = 50"
   ]
  },
  {
   "cell_type": "code",
   "execution_count": 2,
   "metadata": {},
   "outputs": [],
   "source": [
    "# Load full road network. This takes a long time.\n",
    "road_network = ox.io.load_graphml(c.FULL_ROAD_NETWORK_PATH)"
   ]
  },
  {
   "cell_type": "code",
   "execution_count": 3,
   "metadata": {},
   "outputs": [],
   "source": [
    "simplified_road_network = ox.simplify_graph(road_network, track_merged=True)"
   ]
  },
  {
   "cell_type": "code",
   "execution_count": null,
   "metadata": {},
   "outputs": [],
   "source": [
    "# Load the mastra data and filter out all traffic counts which are not for motor vehicles\n",
    "traffic_flow = gpd.read_file(c.MASTRA_PATH).to_crs(\"EPSG:25832\")\n",
    "traffic_flow = traffic_flow[traffic_flow[\"KOERETOEJSART\"] == \"MOTORKTJ\" and traffic_flow[\"AAR\"] >= 2018]\\\n",
    "    [[\"geometry\", \"AADT\", \"AAR\"]]\\\n",
    "    .sort_values(\"AAR\", ascending=False)\n",
    "        "
   ]
  },
  {
   "cell_type": "code",
   "execution_count": 8,
   "metadata": {},
   "outputs": [],
   "source": [
    "edges = ox.graph_to_gdfs(simplified_road_network, nodes=False)"
   ]
  },
  {
   "cell_type": "code",
   "execution_count": null,
   "metadata": {},
   "outputs": [],
   "source": [
    "# Join the traffic flow data to the road network\n",
    "edges = edges.to_crs(\"EPSG:25832\")\n",
    "gpd.sjoin_nearest(traffic_flow, edges)\\\n",
    "    .explode(\"merged_edges\")\\\n",
    "    .explode(\"merged_edges\")\\\n",
    "    .drop_duplicates(subset=\"merged_edges\", keep=\"first\") \\\n",
    "    [[\"merged_edges\", \"AADT\"]]\\\n",
    "    .rename(columns={\"merged_edges\": \"osmid\"})\\\n",
    "    .to_csv(c.NODE_CSV_PATH, index=False)\n"
   ]
  }
 ],
 "metadata": {
  "kernelspec": {
   "display_name": ".venv",
   "language": "python",
   "name": "python3"
  },
  "language_info": {
   "codemirror_mode": {
    "name": "ipython",
    "version": 3
   },
   "file_extension": ".py",
   "mimetype": "text/x-python",
   "name": "python",
   "nbconvert_exporter": "python",
   "pygments_lexer": "ipython3",
   "version": "3.11.6"
  }
 },
 "nbformat": 4,
 "nbformat_minor": 2
}
