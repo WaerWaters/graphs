{
 "cells": [
  {
   "cell_type": "markdown",
   "metadata": {},
   "source": [
    "# Tabular Dataset Preprocessing\n",
    "### Building the tabular dataset\n",
    "*Written by - Rasmus Bergman rbvp20@student.aau.dk*\n",
    "\n",
    "This is a preprocessing pipeline for making a dataset which can be used to do tabular data analysis\n",
    "on the accident data from vejman.dk.\n",
    "\n",
    "### **Prerequisits**\n",
    "- Running mastra.ipynb\n",
    "- Running vejman.ipynb"
   ]
  },
  {
   "cell_type": "code",
   "execution_count": 1,
   "metadata": {},
   "outputs": [],
   "source": [
    "# Import libraries\n",
    "import geopandas as gpd\n",
    "import os\n",
    "import osmnx as ox\n",
    "import constants as c\n",
    "import xml.etree.ElementTree as ET\n",
    "from shapely.geometry import LineString\n",
    "import pandas as pd\n",
    "\n",
    "# Config\n",
    "ox.settings.console_log = True\n",
    "ox.settings.use_cache = True\n",
    "\n",
    "# Parameters\n",
    "MAX_DISTANCE_TO_SIGNAL_METERS = 25"
   ]
  },
  {
   "cell_type": "code",
   "execution_count": 2,
   "metadata": {},
   "outputs": [],
   "source": [
    "# Load the accident data from vejman.dk\n",
    "accidents = gpd.read_file(c.VEJMAN_PATH)\n",
    "\n",
    "# Load the mastra data and filter out all traffic counts which are not for motor vehicles\n",
    "traffic_flow = gpd.read_file(c.MASTRA_PATH)\n",
    "traffic_flow = traffic_flow[traffic_flow[\"KOERETOEJSART\"] == \"MOTORKTJ\"]\n",
    "\n",
    "# Filter out all accidents that are not between two roads that have traffic flow data\n",
    "accidents = accidents[(accidents.VEJ1.isin(traffic_flow.VEJNR)) & (accidents.VEJ2.isin(traffic_flow.VEJNR))]\n",
    "traffic_flow_unacounted = traffic_flow[~traffic_flow.VEJNR.isin(accidents.VEJ1) | ~traffic_flow.VEJNR.isin(accidents.VEJ2)]\n"
   ]
  },
  {
   "cell_type": "code",
   "execution_count": 3,
   "metadata": {},
   "outputs": [],
   "source": [
    "# Load in the OSM data\n",
    "G = ox.load_graphml(c.SIMPLE_ROAD_NETWORK_PATH)\n",
    "G = ox.project_graph(G, to_crs=\"EPSG:25832\")"
   ]
  },
  {
   "cell_type": "code",
   "execution_count": 4,
   "metadata": {},
   "outputs": [],
   "source": [
    "traffic_flow_unacounted = traffic_flow_unacounted.to_crs(\"EPSG:25832\")\n",
    "nearest_edges = ox.nearest_edges(G, traffic_flow_unacounted.geometry.x, traffic_flow_unacounted.geometry.y)"
   ]
  },
  {
   "cell_type": "code",
   "execution_count": 5,
   "metadata": {},
   "outputs": [],
   "source": [
    "new_geometry = [G.edges[edge] for edge in nearest_edges]\n",
    "new_geometry = [edge[\"geometry\"] if \"geometry\" in edge else None for edge in new_geometry]\n",
    "\n",
    "traffic_flow_unacounted[\"geometry\"] = new_geometry\n",
    "# Buffer the traffic flow data to create a polygon around the road\n",
    "traffic_flow_unacounted[\"geometry\"] = traffic_flow_unacounted[\"geometry\"].buffer(10)\n",
    "traffic_flow_unacounted.crs = \"EPSG:25832\""
   ]
  },
  {
   "cell_type": "code",
   "execution_count": 6,
   "metadata": {},
   "outputs": [
    {
     "name": "stdout",
     "output_type": "stream",
     "text": [
      "17951\n",
      "21140\n"
     ]
    }
   ],
   "source": [
    "# Spatial join of all traffic flow data with itself to find intersections\n",
    "unacounted_intersections = gpd.sjoin(traffic_flow_unacounted, traffic_flow_unacounted)\n",
    "unacounted_intersections = unacounted_intersections[unacounted_intersections.index != unacounted_intersections[\"index_right\"]]\n",
    "\n",
    "print(len(traffic_flow_unacounted))\n",
    "print(len(unacounted_intersections))\n"
   ]
  },
  {
   "cell_type": "code",
   "execution_count": 16,
   "metadata": {},
   "outputs": [],
   "source": [
    "# Get the geometry of the other road segment in the intersection\n",
    "second_geom = gpd.GeoSeries(unacounted_intersections[\"index_right\"].map(lambda x: traffic_flow_unacounted[\"geometry\"][x]), crs=\"EPSG:25832\").buffer(10)\n"
   ]
  },
  {
   "cell_type": "code",
   "execution_count": 18,
   "metadata": {},
   "outputs": [],
   "source": [
    "\n",
    "# Find the intersection between the two road segments\n",
    "intersection_geometry = unacounted_intersections[\"geometry\"].intersection(second_geom)\n",
    "unacounted_intersections[\"geometry\"] = intersection_geometry\n",
    "\n",
    "# Filter out all intersections that are empty\n",
    "unacounted_intersections = unacounted_intersections[unacounted_intersections[\"geometry\"].is_empty == False]\n",
    "\n",
    "# Create point geometries for the intersections\n",
    "unacounted_intersections.explode(index_parts=False)\n",
    "unacounted_intersections[\"geometry\"] = unacounted_intersections[\"geometry\"].centroid\n",
    "\n",
    "# Rename and drop columns\n",
    "unacounted_intersections[\"KRYDS_UHELD\"] = 0\n",
    "unacounted_intersections.rename(columns={\"AADT_left\": \"VEJ1_AADT\", \"AADT_right\": \"VEJ2_AADT\", \"HAST_GRAENSE_left\": \"VEJ1_HAST_GRAENSE\", \"HAST_GRAENSE_right\": \"VEJ2_HAST_GRAENSE\"}, inplace=True)\n",
    "unacounted_intersections = unacounted_intersections[[\"KRYDS_UHELD\", \"VEJ1_AADT\", \"VEJ1_HAST_GRAENSE\", \"VEJ2_AADT\", \"VEJ2_HAST_GRAENSE\", \"geometry\"]]"
   ]
  },
  {
   "cell_type": "code",
   "execution_count": 20,
   "metadata": {},
   "outputs": [],
   "source": [
    "# Group the data by road ids and count the number of accidents between each pair of roads\n",
    "# This uses the coordinates of the last accident, which should be good enough as the coordinates\n",
    "# for two accidents between the same roads are very close together.\n",
    "accident_counts = accidents.groupby([\"VEJ1\", \"VEJ2\"]).agg({\"X_KOORDINAT\": \"last\", \"Y_KOORDINAT\": \"last\", \"KRYDS_UHELD\": \"count\"}).reset_index()\n",
    "accident_counts.reset_index(drop=True, inplace=True)"
   ]
  },
  {
   "cell_type": "code",
   "execution_count": 21,
   "metadata": {},
   "outputs": [],
   "source": [
    "# Merge the accident counts with the traffic flow data\n",
    "# Make 2 columns for AADT and speed limit for vej1 og vej2\n",
    "# This is done by looking up the road ids in the traffic flow data\n",
    "\n",
    "for i, row in accident_counts.iterrows():\n",
    "    vej1_row = traffic_flow[traffic_flow.VEJNR == row.VEJ1]\n",
    "    vej2_row = traffic_flow[traffic_flow.VEJNR == row.VEJ2]\n",
    "    if len(vej1_row) > 0:\n",
    "        accident_counts.loc[i, \"VEJ1_AADT\"] = vej1_row.iloc[0].AADT\n",
    "        accident_counts.loc[i, \"VEJ1_HAST_GRAENSE\"] = vej1_row.iloc[0].HAST_GRAENSE\n",
    "    if len(vej2_row) > 0:\n",
    "        accident_counts.loc[i, \"VEJ2_AADT\"] = vej2_row.iloc[0].AADT\n",
    "        accident_counts.loc[i, \"VEJ2_HAST_GRAENSE\"] = vej2_row.iloc[0].HAST_GRAENSE\n",
    "\n",
    "accounted_intersections = gpd.GeoDataFrame(accident_counts, geometry=gpd.points_from_xy(accident_counts.X_KOORDINAT, accident_counts.Y_KOORDINAT, crs = 'EPSG:25832'))\n",
    "accounted_intersections.drop(columns=[\"X_KOORDINAT\", \"Y_KOORDINAT\", \"VEJ1\", \"VEJ2\"], inplace=True)"
   ]
  },
  {
   "cell_type": "code",
   "execution_count": 22,
   "metadata": {},
   "outputs": [],
   "source": [
    "# Filter out all intersections which are in both the accounted and unaccounted intersections\n",
    "duplicate_intersections = gpd.sjoin_nearest(unacounted_intersections, accounted_intersections, how=\"inner\", max_distance=10)\n",
    "unacounted_intersections = unacounted_intersections[~unacounted_intersections.index.isin(duplicate_intersections.index)]\n",
    "\n",
    "all_intersections = gpd.GeoDataFrame(pd.concat([accounted_intersections, unacounted_intersections], ignore_index=True), crs=\"EPSG:25832\")"
   ]
  },
  {
   "cell_type": "code",
   "execution_count": 23,
   "metadata": {},
   "outputs": [],
   "source": [
    "# Load in the OSM data\n",
    "node_gdf = gpd.read_file(c.NODE_GDF_PATH)\n",
    "traffic_signal_features = node_gdf[node_gdf[\"highway\"] == \"traffic_signals\"].to_crs(\"EPSG:25832\")"
   ]
  },
  {
   "cell_type": "code",
   "execution_count": 25,
   "metadata": {},
   "outputs": [],
   "source": [
    "# Find the nearest traffic signal to each accident\n",
    "traffic_signal_nearby = gpd.sjoin_nearest(traffic_signal_features, all_intersections, how=\"inner\", max_distance=MAX_DISTANCE_TO_SIGNAL_METERS)\n",
    "\n",
    "# Find the nearest node and edge to each intersection\n",
    "nearest_nodes = ox.nearest_nodes(G, all_intersections.geometry.x, all_intersections.geometry.y)\n",
    "nearest_edges = ox.nearest_edges(G, all_intersections.geometry.x, all_intersections.geometry.y)\n",
    "\n",
    "# If the distance is less than MAX_DISTANCE_TO_SIGNAL_METERS then the intersection has a traffic signal\n",
    "all_intersections[\"TRAFFIC_SIGNAL\"] = all_intersections.index.isin(traffic_signal_nearby[\"index_right\"])\n",
    "\n",
    "# Junction is an attribute which describes roundabouts and other types of junctions\n",
    "all_intersections[\"JUNCTION\"] = [G.edges[edge].get(\"junction\", None) for edge in nearest_edges]\n",
    "\n",
    "# Amount is an attribute which describes the number of streets that meet at the junction\n",
    "all_intersections[\"AMOUNT\"] = [G.nodes[node].get(\"street_count\", None) for node in nearest_nodes]"
   ]
  },
  {
   "cell_type": "code",
   "execution_count": 26,
   "metadata": {},
   "outputs": [],
   "source": [
    "all_intersections[\"HIGHWAY\"] = [G.edges[edge].get(\"highway\", None) for edge in nearest_edges]"
   ]
  },
  {
   "cell_type": "code",
   "execution_count": 32,
   "metadata": {},
   "outputs": [],
   "source": [
    "all_intersections[\"HIGHWAY\"] = all_intersections[\"HIGHWAY\"].astype(str)\n",
    "all_intersections[\"JUNCTION\"] = all_intersections[\"JUNCTION\"].astype(str)\n"
   ]
  },
  {
   "cell_type": "code",
   "execution_count": 33,
   "metadata": {},
   "outputs": [],
   "source": [
    "all_intersections.to_file(c.TABULAR_INTERSECTIONS, driver=\"GeoJSON\")"
   ]
  }
 ],
 "metadata": {
  "kernelspec": {
   "display_name": ".venv",
   "language": "python",
   "name": "python3"
  },
  "language_info": {
   "codemirror_mode": {
    "name": "ipython",
    "version": 3
   },
   "file_extension": ".py",
   "mimetype": "text/x-python",
   "name": "python",
   "nbconvert_exporter": "python",
   "pygments_lexer": "ipython3",
   "version": "3.11.6"
  }
 },
 "nbformat": 4,
 "nbformat_minor": 2
}
