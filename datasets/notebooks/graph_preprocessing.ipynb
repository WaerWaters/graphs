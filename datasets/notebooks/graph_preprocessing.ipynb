{
 "cells": [
  {
   "cell_type": "markdown",
   "metadata": {},
   "source": [
    "# Graph-learning Preprocessing\n",
    "### Preprocessing the road network for doing graph learning\n",
    "*Written by - Rasmus Bergman rbvp20@student.aau.dk*\n",
    "\n",
    "This is a preprocessing pipeline for making a dataset which can be used to do graph learning on the accident data from vejman.dk\n",
    "\n",
    "### **Prerequisits**\n",
    "- Running mastra.ipynb\n",
    "- Running vejman.ipynb\n",
    "- Running OSM_fetching.ipynb\n",
    "- Running aadt_tracker.ipynb"
   ]
  },
  {
   "cell_type": "code",
   "execution_count": 1,
   "metadata": {},
   "outputs": [],
   "source": [
    "# Import libraries\n",
    "import geopandas as gpd\n",
    "import pandas as pd\n",
    "import osmnx as ox\n",
    "import constants as c\n",
    "import numpy as np\n",
    "import json\n",
    "import os\n",
    "from sklearn.preprocessing import OneHotEncoder\n",
    "\n",
    "# Config\n",
    "ox.settings.console_log = True\n",
    "ox.settings.use_cache = True\n",
    "\n",
    "# Parameters\n",
    "ACCIDENT_RADIUS_METERS = 50\n",
    "X_SLICES = 30\n",
    "Y_SLICES = 50\n",
    "\n",
    "TEST_THRESHOLD = 0.2\n",
    "VALIDATION_THRESHOLD = 0.3\n",
    "\n",
    "NODE_CATEGORIES = [\n",
    "    \"give_way\", \n",
    "    \"crossing\", \n",
    "    \"turning_circle\", \n",
    "    \"traffic_signals\", \n",
    "    \"bus_stop\"\n",
    "]\n",
    "\n",
    "EDGE_CATEGORIES = [\n",
    "    \"residential\",\n",
    "    \"tertiary\",\n",
    "    \"secondary\",\n",
    "    \"primary\",\n",
    "    \"motorway\",\n",
    "    \"living_street\",\n",
    "    \"motorway_link\",\n",
    "    \"trunk\",\n",
    "    \"secondary_link\",\n",
    "    \"tertiary_link\",\n",
    "    \"primary_link\",\n",
    "    \"trunk_link\"\n",
    "]\n",
    "\n",
    "np.random.seed(420)"
   ]
  },
  {
   "cell_type": "code",
   "execution_count": 2,
   "metadata": {},
   "outputs": [],
   "source": [
    "# Load the accident data from vejman.dk\n",
    "accidents = gpd.read_file(c.VEJMAN_PATH)\n",
    "accidents_buffered = accidents.buffer(ACCIDENT_RADIUS_METERS)\n",
    "accidents[\"old_geometry\"] = accidents[\"geometry\"]\n",
    "accidents[\"geometry\"] = accidents_buffered"
   ]
  },
  {
   "cell_type": "code",
   "execution_count": 3,
   "metadata": {},
   "outputs": [],
   "source": [
    "# Load all nodes from the OSM network\n",
    "gdf_nodes = gpd.read_file(c.NODE_GDF_PATH)\n",
    "gdf_nodes = gdf_nodes.to_crs(\"EPSG:25832\")"
   ]
  },
  {
   "cell_type": "code",
   "execution_count": 4,
   "metadata": {},
   "outputs": [],
   "source": [
    "# Find all nodes within 50 meters of an accident\n",
    "all_accident_nodes = gpd.sjoin(gdf_nodes, accidents)\n"
   ]
  },
  {
   "cell_type": "code",
   "execution_count": 5,
   "metadata": {},
   "outputs": [],
   "source": [
    "all_accident_nodes[\"distance\"] = all_accident_nodes[\"geometry\"].distance(all_accident_nodes[\"old_geometry\"])\n",
    "all_accident_nodes[\"distance\"] = 1 - all_accident_nodes[\"distance\"] / ACCIDENT_RADIUS_METERS\n"
   ]
  },
  {
   "cell_type": "code",
   "execution_count": 6,
   "metadata": {},
   "outputs": [],
   "source": [
    "# Sum up the distances to all accidents for each node\n",
    "all_accident_nodes_grouped = all_accident_nodes.groupby(\"osmid\").agg({\n",
    "    \"distance\": \"sum\"\n",
    "    }).reset_index()\n",
    "\n",
    "# Rescale the distances to be between 0 and 1\n",
    "all_accident_nodes_grouped[\"distance\"] = all_accident_nodes_grouped[\"distance\"] / all_accident_nodes_grouped[\"distance\"].max()"
   ]
  },
  {
   "cell_type": "code",
   "execution_count": 34,
   "metadata": {},
   "outputs": [],
   "source": [
    "accident_nodes = gdf_nodes\n",
    "accident_nodes[\"accident_score\"] = accident_nodes[\"osmid\"].map(all_accident_nodes_grouped.set_index(\"osmid\")[\"distance\"])\n",
    "accident_nodes[\"accident_score\"] = accident_nodes[\"accident_score\"].fillna(0)"
   ]
  },
  {
   "cell_type": "code",
   "execution_count": 35,
   "metadata": {},
   "outputs": [],
   "source": [
    "aadt = pd.read_csv(c.NODE_CSV_PATH)"
   ]
  },
  {
   "cell_type": "code",
   "execution_count": 36,
   "metadata": {},
   "outputs": [],
   "source": [
    "accident_nodes = accident_nodes.merge(aadt, on=\"osmid\", how=\"left\")\n",
    "accident_nodes = accident_nodes.rename(columns={\"AADT\": \"traffic_flow\"})\n",
    "accident_nodes[\"traffic_flow\"] = accident_nodes[\"traffic_flow\"].fillna(0)"
   ]
  },
  {
   "cell_type": "code",
   "execution_count": null,
   "metadata": {},
   "outputs": [],
   "source": [
    "train_test_split = np.random.uniform(0, 1, (X_SLICES, Y_SLICES))\n",
    "geographic_test_mask = train_test_split < TEST_THRESHOLD\n",
    "geographic_validation_mask = (train_test_split >= TEST_THRESHOLD) & (train_test_split < VALIDATION_THRESHOLD)"
   ]
  },
  {
   "cell_type": "code",
   "execution_count": null,
   "metadata": {},
   "outputs": [],
   "source": [
    "accident_nodes[\"x_slice\"] = pd.cut(accident_nodes[\"x\"], X_SLICES, labels=False)\n",
    "accident_nodes[\"y_slice\"] = pd.cut(accident_nodes[\"y\"], Y_SLICES, labels=False)"
   ]
  },
  {
   "cell_type": "code",
   "execution_count": null,
   "metadata": {},
   "outputs": [],
   "source": [
    "test_mask = geographic_test_mask[accident_nodes[\"x_slice\"], accident_nodes[\"y_slice\"]]\n",
    "validation_mask = geographic_validation_mask[accident_nodes[\"x_slice\"], accident_nodes[\"y_slice\"]]\n",
    "train_mask = ~(test_mask | validation_mask)\n",
    "\n",
    "splits = pd.DataFrame({\n",
    "    \"test\": test_mask.flatten(),\n",
    "    \"validation\": validation_mask.flatten(),\n",
    "    \"train\": train_mask.flatten()\n",
    "})"
   ]
  },
  {
   "cell_type": "code",
   "execution_count": null,
   "metadata": {},
   "outputs": [],
   "source": [
    "splits.to_csv(os.path.join(c.GRAPH_DATASET_DIR, \"splits.csv\"))"
   ]
  },
  {
   "cell_type": "code",
   "execution_count": null,
   "metadata": {},
   "outputs": [],
   "source": [
    "node_category_encoder = OneHotEncoder(categories=[NODE_CATEGORIES], handle_unknown=\"infrequent_if_exist\", sparse_output=False)\n",
    "\n",
    "oneHot = node_category_encoder.fit_transform(accident_nodes[\"highway\"].values.reshape(-1, 1))"
   ]
  },
  {
   "cell_type": "code",
   "execution_count": null,
   "metadata": {},
   "outputs": [],
   "source": [
    "accident_nodes = accident_nodes.drop(columns=[\"highway\", \"ref\", \"geometry\", \"street_count\"])\n",
    "accident_nodes = accident_nodes.join(pd.DataFrame(oneHot, columns=NODE_CATEGORIES))\n",
    "accident_nodes[\"old_index\"] = accident_nodes.index\n",
    "accident_nodes = accident_nodes.set_index(\"osmid\")"
   ]
  },
  {
   "cell_type": "code",
   "execution_count": null,
   "metadata": {},
   "outputs": [],
   "source": [
    "accident_nodes[[\"x\", \"y\"]].to_csv(os.path.join(c.GRAPH_DATASET_DIR, \"pos.csv\"), index=False)\n",
    "accident_nodes[[\n",
    "    \"accident_score\", \n",
    "    \"traffic_flow\"\n",
    "] + NODE_CATEGORIES].to_csv(os.path.join(c.GRAPH_DATASET_DIR, \"nodes.csv\"), index=False)"
   ]
  },
  {
   "cell_type": "code",
   "execution_count": null,
   "metadata": {},
   "outputs": [],
   "source": [
    "edges = []\n",
    "\n",
    "# This is for some reason way faster than using geopandas\n",
    "# Orders of magnitude faster\n",
    "\n",
    "with open(c.EDGE_GDF_PATH) as f:\n",
    "    i = 0\n",
    "    for line in f:\n",
    "        i += 1\n",
    "        if i <= 4:\n",
    "            continue\n",
    "        stripped_line = line.strip().removesuffix(\",\")\n",
    "        if stripped_line == \"]\":\n",
    "            break\n",
    "        row = json.loads(stripped_line)\n",
    "        prop = row[\"properties\"]\n",
    "        from_node = accident_nodes.loc[prop[\"u\"]][\"old_index\"]\n",
    "        to_node = accident_nodes.loc[prop[\"v\"]][\"old_index\"]\n",
    "\n",
    "        edges.append([from_node, to_node, prop[\"lanes\"], prop[\"highway\"], prop[\"maxspeed\"], prop[\"length\"], prop[\"oneway\"]])\n",
    "\n",
    "        if i % 10_000 == 0:\n",
    "            print(f\"Processed {i} lines\", end=\"\\r\")"
   ]
  },
  {
   "cell_type": "code",
   "execution_count": null,
   "metadata": {},
   "outputs": [],
   "source": [
    "edges = pd.DataFrame(edges, columns=[\"from\", \"to\", \"lanes\", \"highway\", \"maxspeed\", \"length\", \"oneway\"])\n",
    "# Type conversion\n",
    "edges[\"from\"] = edges[\"from\"].astype(int)\n",
    "edges[\"to\"] = edges[\"to\"].astype(int)\n",
    "edges[\"lanes\"] = edges[\"lanes\"].fillna(1).astype(int)"
   ]
  },
  {
   "cell_type": "code",
   "execution_count": null,
   "metadata": {},
   "outputs": [],
   "source": [
    "# Find nearest speed limit for edges with no speed limit\n",
    "\n",
    "for i, edge in edges[(edges[\"maxspeed\"] == \"signals\") | (edges[\"maxspeed\"] == \"none\")].iterrows():\n",
    "    new_speed = None\n",
    "\n",
    "    neighbouring_edges = edges[(edges[\"to\"] == edge[\"from\"]) | (edges[\"from\"] == edge[\"to\"])]\n",
    "\n",
    "    while new_speed is None:\n",
    "        for _, neighbour in neighbouring_edges.iterrows():\n",
    "            if neighbour[\"maxspeed\"] != \"signals\":\n",
    "                new_speed = neighbour[\"maxspeed\"]\n",
    "                break\n",
    "        if new_speed is None:\n",
    "            neighbouring_edges = edges[edges[\"to\"].isin(neighbouring_edges[\"from\"]) | edges[\"from\"].isin(neighbouring_edges[\"to\"])]\n",
    "\n",
    "    edges.loc[i, \"maxspeed\"] = new_speed\n",
    "\n",
    "edges[\"maxspeed\"] = edges[\"maxspeed\"].astype(float)"
   ]
  },
  {
   "cell_type": "code",
   "execution_count": null,
   "metadata": {},
   "outputs": [],
   "source": [
    "# One hot encoding of edge categories\n",
    "\n",
    "edge_category_encoder = OneHotEncoder(categories=[EDGE_CATEGORIES], handle_unknown=\"infrequent_if_exist\", sparse_output=False)\n",
    "\n",
    "oneHot = edge_category_encoder.fit_transform(edges[\"highway\"].values.reshape(-1, 1))\n",
    "\n",
    "edges = edges.drop(columns=[\"highway\"])\n",
    "\n",
    "edges = edges.join(pd.DataFrame(oneHot, columns=EDGE_CATEGORIES))"
   ]
  },
  {
   "cell_type": "code",
   "execution_count": null,
   "metadata": {},
   "outputs": [],
   "source": [
    "edges[[\"from\", \"to\"]].to_csv(os.path.join(c.GRAPH_DATASET_DIR, \"edges.csv\"), index=False)\n",
    "edges[[\"lanes\", \"maxspeed\", \"length\", \"oneway\"] + EDGE_CATEGORIES].to_csv(os.path.join(c.GRAPH_DATASET_DIR, \"edges_attributes.csv\"), index=False)"
   ]
  }
 ],
 "metadata": {
  "kernelspec": {
   "display_name": ".venv",
   "language": "python",
   "name": "python3"
  },
  "language_info": {
   "codemirror_mode": {
    "name": "ipython",
    "version": 3
   },
   "file_extension": ".py",
   "mimetype": "text/x-python",
   "name": "python",
   "nbconvert_exporter": "python",
   "pygments_lexer": "ipython3",
   "version": "3.11.6"
  }
 },
 "nbformat": 4,
 "nbformat_minor": 2
}
