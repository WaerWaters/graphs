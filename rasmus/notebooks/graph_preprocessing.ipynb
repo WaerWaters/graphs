{
 "cells": [
  {
   "cell_type": "markdown",
   "metadata": {},
   "source": [
    "# Graph-learning Preprocessing\n",
    "### Preprocessing the road network for doing graph learning\n",
    "*Written by - Rasmus Bergman rbvp20@student.aau.dk*\n",
    "\n",
    "This is a preprocessing pipeline for making a dataset which can be used to do graph learning on the accident data from vejman.dk\n",
    "\n",
    "### **Prerequisits**\n",
    "- Running mastra.ipynb\n",
    "- Running vejman.ipynb"
   ]
  },
  {
   "cell_type": "code",
   "execution_count": 109,
   "metadata": {},
   "outputs": [],
   "source": [
    "# Import libraries\n",
    "import geopandas as gpd\n",
    "import os\n",
    "import osmnx as ox\n",
    "from pyproj import Transformer\n",
    "import constants as c\n",
    "# Config\n",
    "ox.settings.console_log = True\n",
    "ox.settings.use_cache = True\n",
    "\n",
    "# Parameters\n",
    "ACCIDENT_RADIUS_METERS = 50"
   ]
  },
  {
   "cell_type": "code",
   "execution_count": 110,
   "metadata": {},
   "outputs": [],
   "source": [
    "# Load the accident data from vejman.dk\n",
    "accidents = gpd.read_file(c.VEJMAN_PATH)\n",
    "accidents_buffered = accidents.buffer(ACCIDENT_RADIUS_METERS)\n",
    "accidents[\"old_geometry\"] = accidents[\"geometry\"]\n",
    "accidents[\"geometry\"] = accidents_buffered"
   ]
  },
  {
   "cell_type": "code",
   "execution_count": 111,
   "metadata": {},
   "outputs": [],
   "source": [
    "# Load all nodes from the OSM network\n",
    "gdf_nodes = gpd.read_file(c.NODE_GDF_PATH)\n",
    "gdf_nodes = gdf_nodes.to_crs(\"EPSG:25832\")"
   ]
  },
  {
   "cell_type": "code",
   "execution_count": 112,
   "metadata": {},
   "outputs": [],
   "source": [
    "# Find all nodes within 50 meters of an accident\n",
    "all_accident_nodes = gpd.sjoin(gdf_nodes, accidents)\n"
   ]
  },
  {
   "cell_type": "code",
   "execution_count": 113,
   "metadata": {},
   "outputs": [],
   "source": [
    "all_accident_nodes[\"distance\"] = all_accident_nodes[\"geometry\"].distance(all_accident_nodes[\"old_geometry\"])\n",
    "all_accident_nodes[\"distance\"] = 1 - all_accident_nodes[\"distance\"] / ACCIDENT_RADIUS_METERS\n"
   ]
  },
  {
   "cell_type": "code",
   "execution_count": 114,
   "metadata": {},
   "outputs": [],
   "source": [
    "# Sum up the distances to all accidents for each node\n",
    "all_accident_nodes_grouped = all_accident_nodes.groupby(\"osmid\").agg({\n",
    "    \"distance\": \"sum\"\n",
    "    }).reset_index()\n",
    "\n",
    "# Rescale the distances to be between 0 and 1\n",
    "all_accident_nodes_grouped[\"distance\"] = all_accident_nodes_grouped[\"distance\"] / all_accident_nodes_grouped[\"distance\"].max()"
   ]
  },
  {
   "cell_type": "code",
   "execution_count": 115,
   "metadata": {},
   "outputs": [],
   "source": [
    "accident_nodes = gdf_nodes\n",
    "accident_nodes[\"accident_score\"] = accident_nodes[\"osmid\"].map(all_accident_nodes_grouped.set_index(\"osmid\")[\"distance\"])\n",
    "accident_nodes[\"accident_score\"] = accident_nodes[\"accident_score\"].fillna(0)"
   ]
  },
  {
   "cell_type": "code",
   "execution_count": 116,
   "metadata": {},
   "outputs": [],
   "source": [
    "# Load the mastra data and filter out all traffic counts which are not for motor vehicles\n",
    "traffic_flow = gpd.read_file(c.MASTRA_PATH)\n",
    "traffic_flow = traffic_flow[traffic_flow[\"KOERETOEJSART\"] == \"MOTORKTJ\"]\n",
    "traffic_flow = traffic_flow[traffic_flow[\"AAR\"] >= 2018]"
   ]
  },
  {
   "cell_type": "code",
   "execution_count": 118,
   "metadata": {},
   "outputs": [],
   "source": [
    "traffic_flow = traffic_flow.to_crs(\"EPSG:25832\")\n",
    "traffic_flow_simple = traffic_flow[[\"geometry\", \"AADT\", \"AAR\"]]\n",
    "traffic_flow_simple = traffic_flow_simple.sort_values(\"AAR\", ascending=False)\n",
    "\n",
    "traffic_flow_joined = gpd.sjoin_nearest(traffic_flow_simple, accident_nodes, how=\"inner\")\n",
    "traffic_flow_joined = traffic_flow_joined.drop_duplicates(subset=[\"osmid\"], keep=\"first\")\n",
    "traffic_flow_joined = traffic_flow_joined.set_index(\"osmid\")"
   ]
  },
  {
   "cell_type": "code",
   "execution_count": 119,
   "metadata": {},
   "outputs": [],
   "source": [
    "accident_flow_nodes = accident_nodes\n",
    "\n",
    "accident_flow_nodes[\"traffic_flow\"] = accident_flow_nodes[\"osmid\"].map(traffic_flow_joined[\"AADT\"])\n",
    "accident_flow_nodes[\"traffic_flow\"] = accident_flow_nodes[\"traffic_flow\"].fillna(0)"
   ]
  },
  {
   "cell_type": "code",
   "execution_count": 72,
   "metadata": {},
   "outputs": [],
   "source": [
    "color_start = [0x27, 0x7d, 0xa1] #277da1\n",
    "color_end = [0xf9, 0x41, 0x44] #f94144\n",
    "\n",
    "def gradient(value):\n",
    "    clamped_value = max(0, min(1, value))\n",
    "    r = color_start[0] + (color_end[0] - color_start[0]) * clamped_value\n",
    "    g = color_start[1] + (color_end[1] - color_start[1]) * clamped_value\n",
    "    b = color_start[2] + (color_end[2] - color_start[2]) * clamped_value\n",
    "    return f\"rgb({r}, {g}, {b})\"\n",
    "\n",
    "test_bbox = [\n",
    "    (9.790373,56.967101),\n",
    "    (10.072584,57.119877)\n",
    "]\n",
    "\n",
    "transformer = Transformer.from_crs(\"epsg:4326\", \"epsg:25832\")\n",
    "\n",
    "test_bbox_new = [\n",
    "    transformer.transform(test_bbox[0][1], test_bbox[0][0]),\n",
    "    transformer.transform(test_bbox[1][1], test_bbox[1][0])\n",
    "]\n",
    "\n",
    "test_nodes = accident_nodes.cx[test_bbox_new[0][0]:test_bbox_new[1][0], test_bbox_new[0][1]:test_bbox_new[1][1]]"
   ]
  },
  {
   "cell_type": "code",
   "execution_count": null,
   "metadata": {},
   "outputs": [],
   "source": [
    "test_nodes.explore()"
   ]
  },
  {
   "cell_type": "code",
   "execution_count": 124,
   "metadata": {},
   "outputs": [],
   "source": [
    "accident_flow_nodes.to_file(\"../data/graph/accident_flow_nodes.geojson\", driver=\"GeoJSON\")"
   ]
  }
 ],
 "metadata": {
  "kernelspec": {
   "display_name": ".venv",
   "language": "python",
   "name": "python3"
  },
  "language_info": {
   "codemirror_mode": {
    "name": "ipython",
    "version": 3
   },
   "file_extension": ".py",
   "mimetype": "text/x-python",
   "name": "python",
   "nbconvert_exporter": "python",
   "pygments_lexer": "ipython3",
   "version": "3.11.6"
  }
 },
 "nbformat": 4,
 "nbformat_minor": 2
}
