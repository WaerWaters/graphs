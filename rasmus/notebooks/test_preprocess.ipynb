{
 "cells": [
  {
   "cell_type": "code",
   "execution_count": 1,
   "metadata": {},
   "outputs": [],
   "source": [
    "# Import libraries\n",
    "import geopandas as gpd\n",
    "import pandas as pd\n",
    "import os\n",
    "import matplotlib.pyplot as plt\n",
    "from pyproj import Transformer\n",
    "import constants as c\n",
    "import networkx as nx\n",
    "import numpy as np\n",
    "import json\n",
    "from sklearn.preprocessing import OneHotEncoder\n",
    "\n",
    "# Parameters\n",
    "X_SLICES = 30\n",
    "Y_SLICES = 50\n",
    "\n",
    "TEST_THRESHOLD = 0.2\n",
    "VALIDATION_THRESHOLD = 0.3\n",
    "\n",
    "NODE_CATEGORIES = [\n",
    "    \"give_way\", \n",
    "    \"crossing\", \n",
    "    \"turning_circle\", \n",
    "    \"traffic_signals\", \n",
    "    \"bus_stop\"\n",
    "]\n",
    "\n",
    "EDGE_CATEGORIES = [\n",
    "    \"residential\",\n",
    "    \"tertiary\",\n",
    "    \"secondary\",\n",
    "    \"primary\",\n",
    "    \"motorway\",\n",
    "    \"living_street\",\n",
    "    \"motorway_link\",\n",
    "    \"trunk\",\n",
    "    \"secondary_link\",\n",
    "    \"tertiary_link\",\n",
    "    \"primary_link\",\n",
    "    \"trunk_link\"\n",
    "]\n",
    "\n",
    "np.random.seed(9000)"
   ]
  },
  {
   "cell_type": "code",
   "execution_count": 25,
   "metadata": {},
   "outputs": [],
   "source": [
    "train_test_split = np.random.uniform(0, 1, (X_SLICES, Y_SLICES))\n",
    "geographic_test_mask = train_test_split < TEST_THRESHOLD\n",
    "geographic_validation_mask = (train_test_split >= TEST_THRESHOLD) & (train_test_split < VALIDATION_THRESHOLD)"
   ]
  },
  {
   "cell_type": "code",
   "execution_count": 3,
   "metadata": {},
   "outputs": [],
   "source": [
    "df_nodes = gpd.read_file(\"../data/graph/accident_flow_nodes.geojson\")"
   ]
  },
  {
   "cell_type": "code",
   "execution_count": 4,
   "metadata": {},
   "outputs": [],
   "source": [
    "df_nodes[\"x_slice\"] = pd.cut(df_nodes[\"x\"], X_SLICES, labels=False)\n",
    "df_nodes[\"y_slice\"] = pd.cut(df_nodes[\"y\"], Y_SLICES, labels=False)"
   ]
  },
  {
   "cell_type": "code",
   "execution_count": 26,
   "metadata": {},
   "outputs": [],
   "source": [
    "test_mask = geographic_test_mask[df_nodes[\"x_slice\"], df_nodes[\"y_slice\"]]\n",
    "validation_mask = geographic_validation_mask[df_nodes[\"x_slice\"], df_nodes[\"y_slice\"]]\n",
    "train_mask = ~(test_mask | validation_mask)\n",
    "\n",
    "splits = pd.DataFrame({\n",
    "    \"test\": test_mask.flatten(),\n",
    "    \"validation\": validation_mask.flatten(),\n",
    "    \"train\": train_mask.flatten()\n",
    "})"
   ]
  },
  {
   "cell_type": "code",
   "execution_count": 29,
   "metadata": {},
   "outputs": [],
   "source": [
    "splits.to_csv(\"../data/OSM/graphs/splits.csv\")"
   ]
  },
  {
   "cell_type": "code",
   "execution_count": 8,
   "metadata": {},
   "outputs": [],
   "source": [
    "node_category_encoder = OneHotEncoder(categories=[NODE_CATEGORIES], handle_unknown=\"infrequent_if_exist\", sparse_output=False)\n",
    "\n",
    "oneHot = node_category_encoder.fit_transform(df_nodes[\"highway\"].values.reshape(-1, 1))"
   ]
  },
  {
   "cell_type": "code",
   "execution_count": 9,
   "metadata": {},
   "outputs": [],
   "source": [
    "df_nodes = df_nodes.drop(columns=[\"highway\", \"ref\", \"geometry\", \"street_count\"])"
   ]
  },
  {
   "cell_type": "code",
   "execution_count": 10,
   "metadata": {},
   "outputs": [],
   "source": [
    "df_nodes = df_nodes.join(pd.DataFrame(oneHot, columns=NODE_CATEGORIES))"
   ]
  },
  {
   "cell_type": "code",
   "execution_count": 11,
   "metadata": {},
   "outputs": [],
   "source": [
    "df_nodes[\"old_index\"] = df_nodes.index\n",
    "df_nodes = df_nodes.set_index(\"osmid\")"
   ]
  },
  {
   "cell_type": "code",
   "execution_count": 12,
   "metadata": {},
   "outputs": [],
   "source": [
    "df_nodes[[\"x\", \"y\"]].to_csv(\"../data/OSM/graphs/pos.csv\", index=False)\n",
    "df_nodes[[\"test\", \"validation\"]].to_csv(\"../data/OSM/graphs/splits.csv\", index=False)\n",
    "df_nodes[[\n",
    "    \"accident_score\", \n",
    "    \"traffic_flow\"\n",
    "] + NODE_CATEGORIES].to_csv(\"../data/OSM/graphs/nodes.csv\", index=False)"
   ]
  },
  {
   "cell_type": "code",
   "execution_count": 13,
   "metadata": {},
   "outputs": [
    {
     "name": "stdout",
     "output_type": "stream",
     "text": [
      "Processed 4120000 lines\r"
     ]
    }
   ],
   "source": [
    "edges = []\n",
    "\n",
    "with open(c.EDGE_GDF_PATH) as f:\n",
    "    i = 0\n",
    "    for line in f:\n",
    "        i += 1\n",
    "        if i <= 4:\n",
    "            continue\n",
    "        stripped_line = line.strip().removesuffix(\",\")\n",
    "        if stripped_line == \"]\":\n",
    "            break\n",
    "        row = json.loads(stripped_line)\n",
    "        prop = row[\"properties\"]\n",
    "        from_node = df_nodes.loc[prop[\"u\"]][\"old_index\"]\n",
    "        to_node = df_nodes.loc[prop[\"v\"]][\"old_index\"]\n",
    "\n",
    "        edges.append([from_node, to_node, prop[\"lanes\"], prop[\"highway\"], prop[\"maxspeed\"], prop[\"length\"], prop[\"oneway\"]])\n",
    "\n",
    "        if i % 10_000 == 0:\n",
    "            print(f\"Processed {i} lines\", end=\"\\r\")"
   ]
  },
  {
   "cell_type": "code",
   "execution_count": 14,
   "metadata": {},
   "outputs": [],
   "source": [
    "edges = pd.DataFrame(edges, columns=[\"from\", \"to\", \"lanes\", \"highway\", \"maxspeed\", \"length\", \"oneway\"])"
   ]
  },
  {
   "cell_type": "code",
   "execution_count": 16,
   "metadata": {},
   "outputs": [],
   "source": [
    "# Type conversion\n",
    "edges[\"from\"] = edges[\"from\"].astype(int)\n",
    "edges[\"to\"] = edges[\"to\"].astype(int)\n",
    "edges[\"lanes\"] = edges[\"lanes\"].fillna(1).astype(int)"
   ]
  },
  {
   "cell_type": "code",
   "execution_count": 17,
   "metadata": {},
   "outputs": [],
   "source": [
    "# Find nearest speed limit for edges with no speed limit\n",
    "\n",
    "for i, edge in edges[(edges[\"maxspeed\"] == \"signals\") | (edges[\"maxspeed\"] == \"none\")].iterrows():\n",
    "    new_speed = None\n",
    "\n",
    "    neighbouring_edges = edges[(edges[\"to\"] == edge[\"from\"]) | (edges[\"from\"] == edge[\"to\"])]\n",
    "\n",
    "    while new_speed is None:\n",
    "        for _, neighbour in neighbouring_edges.iterrows():\n",
    "            if neighbour[\"maxspeed\"] != \"signals\":\n",
    "                new_speed = neighbour[\"maxspeed\"]\n",
    "                break\n",
    "        if new_speed is None:\n",
    "            neighbouring_edges = edges[edges[\"to\"].isin(neighbouring_edges[\"from\"]) | edges[\"from\"].isin(neighbouring_edges[\"to\"])]\n",
    "\n",
    "    edges.loc[i, \"maxspeed\"] = new_speed\n",
    "\n",
    "edges[\"maxspeed\"] = edges[\"maxspeed\"].astype(float)"
   ]
  },
  {
   "cell_type": "code",
   "execution_count": 18,
   "metadata": {},
   "outputs": [],
   "source": [
    "# One hot encoding of edge categories\n",
    "\n",
    "edge_category_encoder = OneHotEncoder(categories=[EDGE_CATEGORIES], handle_unknown=\"infrequent_if_exist\", sparse_output=False)\n",
    "\n",
    "oneHot = edge_category_encoder.fit_transform(edges[\"highway\"].values.reshape(-1, 1))\n",
    "\n",
    "edges = edges.drop(columns=[\"highway\"])\n",
    "\n",
    "edges = edges.join(pd.DataFrame(oneHot, columns=EDGE_CATEGORIES))"
   ]
  },
  {
   "cell_type": "code",
   "execution_count": 19,
   "metadata": {},
   "outputs": [],
   "source": [
    "edges[[\"from\", \"to\"]].to_csv(\"../data/OSM/graphs/edges.csv\", index=False)\n",
    "edges[[\"lanes\", \"maxspeed\", \"length\", \"oneway\"] + EDGE_CATEGORIES].to_csv(\"../data/OSM/graphs/edges_attributes.csv\", index=False)"
   ]
  }
 ],
 "metadata": {
  "kernelspec": {
   "display_name": ".venv",
   "language": "python",
   "name": "python3"
  },
  "language_info": {
   "codemirror_mode": {
    "name": "ipython",
    "version": 3
   },
   "file_extension": ".py",
   "mimetype": "text/x-python",
   "name": "python",
   "nbconvert_exporter": "python",
   "pygments_lexer": "ipython3",
   "version": "3.11.6"
  }
 },
 "nbformat": 4,
 "nbformat_minor": 2
}
