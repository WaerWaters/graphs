{
 "cells": [
  {
   "cell_type": "markdown",
   "metadata": {},
   "source": [
    "# Mastra\n",
    "### Downloading the mastra dataset\n",
    "*Written by - Rasmus Bergman rbvp20@student.aau.dk*\n",
    "\n",
    "This notebook for downloading the open dataset from Mastra"
   ]
  },
  {
   "cell_type": "code",
   "execution_count": 2,
   "metadata": {},
   "outputs": [],
   "source": [
    "# Import Libraries\n",
    "import urllib.request\n",
    "import pyproj\n",
    "import json\n",
    "import geopandas as gpd\n",
    "import os\n",
    "import constants as c\n",
    "\n",
    "# Constants\n",
    "X_SLICES = 10\n",
    "Y_SLICES = 15"
   ]
  },
  {
   "cell_type": "code",
   "execution_count": 71,
   "metadata": {},
   "outputs": [
    {
     "name": "stdout",
     "output_type": "stream",
     "text": [
      "Error writing to ../data/mastra/1_11.json\n",
      "https://vmgeoserver.vd.dk/geosmastra/opendata/ows?service=WFS&version=1.0.0&request=GetFeature&typeName=OPEN_DATA_NOEGLETAL_VIEW&outputFormat=json&encoding=utf-8&CQL_FILTER=BBOX(KOOR_SDO,472624.7229623238,6311763.654711639,500604.0833842272,6333417.359266506)\n"
     ]
    }
   ],
   "source": [
    "# The api is restricted to a maximum of 3000 data points.\n",
    "# Therefore it is necessary to get the data in smaller areas.\n",
    "# The bounding box of Denmark is used to divide the area into smaller parts.\n",
    "# This bounding box is then sliced into 10x15 parts.\n",
    "# The data is then fetched from the api in these smaller areas.\n",
    "\n",
    "DK_BBOX = (8.08997684086, 54.8000145534, 12.6900061378, 57.730016588)\n",
    "source_crs = pyproj.CRS(\"EPSG:4326\")\n",
    "target_crs = pyproj.CRS(\"EPSG:25832\")\n",
    "string_encoding = 'latin-1' \n",
    "# The data is encoded in latin-1 maybe?\n",
    "# For 1 of the files downloaded it is not encoded in latin-1, so it must\n",
    "# be fetched manually and saved in the \"data/mastra\" folder with the name\n",
    "# specified in the printout.\n",
    "\n",
    "transformer = pyproj.Transformer.from_crs(source_crs, target_crs, always_xy=True)\n",
    "\n",
    "mastra_url_start = \"https://vmgeoserver.vd.dk/geosmastra/opendata/ows?service=WFS&version=1.0.0&request=GetFeature&typeName=OPEN_DATA_NOEGLETAL_VIEW&outputFormat=json&encoding=utf-8\"\n",
    "def construct_mastra_url(lon_start: float, lon_end: float, lat_start: float, lat_end: float):\n",
    "    return mastra_url_start+f\"&CQL_FILTER=BBOX(KOOR_SDO,{lon_start},{lat_start},{lon_end},{lat_end})\"\n",
    "\n",
    "for x in X_SLICES:\n",
    "    for y in Y_SLICES:\n",
    "        lon_start = DK_BBOX[0] + (DK_BBOX[2] - DK_BBOX[0]) / X_SLICES * x\n",
    "        lon_end = DK_BBOX[0] + (DK_BBOX[2] - DK_BBOX[0]) / X_SLICES * (x+1)\n",
    "        lat_start = DK_BBOX[1] + (DK_BBOX[3] - DK_BBOX[1]) / Y_SLICES * y\n",
    "        lat_end = DK_BBOX[1] + (DK_BBOX[3] - DK_BBOX[1]) / Y_SLICES * (y+1)\n",
    "\n",
    "        lon_start, lat_start = transformer.transform(lon_start, lat_start)\n",
    "        lon_end, lat_end = transformer.transform(lon_end, lat_end)\n",
    "\n",
    "        url = construct_mastra_url(lon_start, lon_end, lat_start, lat_end)\n",
    "        result = urllib.request.urlopen(url).read()\n",
    "\n",
    "        file_path = os.path.join(c.MASTRA_FOLDER, f\"{x}_{y}.json\")\n",
    "\n",
    "        # Try catch block for the encoding error\n",
    "        try:\n",
    "            decoded = result.decode(string_encoding)\n",
    "            if '\"numberReturned\":0' in decoded:\n",
    "                continue\n",
    "            with open(file_path, 'w') as f:\n",
    "                f.write(decoded)\n",
    "        except UnicodeEncodeError as e:\n",
    "            print(f\"Error at: ({x}_{y}), go to the following url and save the file as {x}_{y}.json\")\n",
    "            print(url)"
   ]
  },
  {
   "cell_type": "code",
   "execution_count": null,
   "metadata": {},
   "outputs": [],
   "source": [
    "years = dict()\n",
    "unique_features = []\n",
    "\n",
    "for file in os.listdir(c.MASTRA_DIR):\n",
    "    with open(os.path.join(c.MASTRA_DIR, file), 'r') as f:\n",
    "        features = json.load(f)[\"features\"]\n",
    "        for feature in features:\n",
    "            road_id = str(feature[\"properties\"][\"VEJNR\"]) + \"-\" + feature[\"properties\"][\"VEJDEL\"]\n",
    "            if road_id in years:\n",
    "                old_year = years[road_id]\n",
    "                new_year = feature[\"properties\"][\"AAR\"]\n",
    "                if new_year < old_year:\n",
    "                    continue\n",
    "            years[road_id] = feature[\"properties\"][\"AAR\"]\n",
    "            unique_features.append(feature)\n",
    "\n",
    "gdf = gpd.GeoDataFrame.from_features(unique_features, \"EPSG:25832\")\n",
    "gdf.to_crs(\"EPSG:4326\", inplace=True)\n",
    "\n",
    "gdf.to_file(c.MASTRA_PATH, driver=\"GeoJSON\")"
   ]
  }
 ],
 "metadata": {
  "kernelspec": {
   "display_name": ".venv",
   "language": "python",
   "name": "python3"
  },
  "language_info": {
   "codemirror_mode": {
    "name": "ipython",
    "version": 3
   },
   "file_extension": ".py",
   "mimetype": "text/x-python",
   "name": "python",
   "nbconvert_exporter": "python",
   "pygments_lexer": "ipython3",
   "version": "3.11.6"
  }
 },
 "nbformat": 4,
 "nbformat_minor": 2
}
