{
 "cells": [
  {
   "cell_type": "markdown",
   "metadata": {},
   "source": [
    "# Vejman.dk\n",
    "### Data preprocessing for accident data from vejman.dk\n",
    "*Written by - Rasmus Bergman rbvp20@student.aau.dk*\n",
    "\n",
    "This is a notebook for preprocessing the data from vejman.dk\n",
    "\n",
    "It takes excel files from vejman.dk and turns them into a geoJSON file\n",
    "\n",
    "### **Prerequisits**\n",
    "- Downloading data from vejman.dk\n",
    "\n",
    "### **Download Data from vejman.dk**\n",
    "This is done at [Vejman.dk](https://vejman.vd.dk/query/default.do) in the tab *Avanceret søgning*.\n",
    "\n",
    "Then navigate to the following folder:\n",
    "- Vejparametre\n",
    "    - Trafiksikkerhed\n",
    "        - Uheldsdata\n",
    "            - Uheld\n",
    "\n",
    "There you will find all parameters which are available.\n",
    "\n",
    "The data downloaded should contain **at least** the following parameters:\n",
    "- X_Koordinat,\n",
    "- Y_Koordinat,\n",
    "- Adm_Vej1_Id,\n",
    "- Adm_Vej2_Id\n",
    "\n",
    "Any additional parameters can be added to the query below when downloading data (where you specify the year XXXX):\n",
    "```\n",
    "VÆLG\n",
    "  X_Koordinat,\n",
    "  Y_Koordinat,\n",
    "  Adm_Vej1_Id,\n",
    "  Adm_Vej2_Id\n",
    "HVOR\n",
    "  År = XXXX\n",
    "```\n",
    "\n",
    "It should be downloaded in the Microsoft Excel format (the other ones are very slow to download)."
   ]
  },
  {
   "cell_type": "code",
   "execution_count": 1,
   "metadata": {},
   "outputs": [],
   "source": [
    "# Import libraries\n",
    "import pandas as pd\n",
    "import geopandas as gpd\n",
    "import os\n",
    "import constants as c"
   ]
  },
  {
   "cell_type": "code",
   "execution_count": 6,
   "metadata": {},
   "outputs": [],
   "source": [
    "# Helper function for loading and preprocessing the vejman data\n",
    "def create_dataframe(path: str, year: int) -> pd.DataFrame:\n",
    "    # Sould contain the columns \"ADM_VEJ1_ID\", \"ADM_VEJ2_ID\", \"X_KOORDINAT\", \"Y_KOORDINAT\"\n",
    "    df = pd.read_excel(path, header=2)\n",
    "\n",
    "    # The parts before the \"-\" in the ADM_VEJ1_ID and ADM_VEJ2_ID are the official road ids\n",
    "    # Thse can be used to identify roads in any dataset from Vejdirektoratet.\n",
    "    # They can be looked up at cvf.dk\n",
    "    # In this case they are used to identify roads in the Mastra dataset.\n",
    "    df[\"VEJ1\"] = df.ADM_VEJ1_ID.str.split(\"-\", expand=True)[0]\n",
    "    df[\"VEJ2\"] = df.ADM_VEJ2_ID.str.split(\"-\", expand=True)[0]\n",
    "    df.drop(columns=[\"ADM_VEJ1_ID\", \"ADM_VEJ2_ID\"], inplace=True)\n",
    "    # The road ids are strings, but the strings are just numbers, so we convert them to integers\n",
    "    df[\"VEJ1\"] = df[\"VEJ1\"].fillna(-1).astype(int)\n",
    "    df[\"VEJ2\"] = df[\"VEJ2\"].fillna(-1).astype(int)\n",
    "\n",
    "    # Sort the road ids so that the smaller id is always in the first column\n",
    "    # This makes finding accidents in the same intersection easier\n",
    "    df[\"VEJ1\"], df[\"VEJ2\"] = df[[\"VEJ1\", \"VEJ2\"]].min(axis=1), df[[\"VEJ1\", \"VEJ2\"]].max(axis=1)\n",
    "    \n",
    "    df[\"ÅR\"] = year\n",
    "    return df"
   ]
  },
  {
   "cell_type": "code",
   "execution_count": 7,
   "metadata": {},
   "outputs": [
    {
     "name": "stderr",
     "output_type": "stream",
     "text": [
      "c:\\Users\\rasmu\\Documents\\projects\\P4\\.venv\\Lib\\site-packages\\openpyxl\\styles\\stylesheet.py:226: UserWarning: Workbook contains no default style, apply openpyxl's default\n",
      "  warn(\"Workbook contains no default style, apply openpyxl's default\")\n",
      "c:\\Users\\rasmu\\Documents\\projects\\P4\\.venv\\Lib\\site-packages\\openpyxl\\styles\\stylesheet.py:226: UserWarning: Workbook contains no default style, apply openpyxl's default\n",
      "  warn(\"Workbook contains no default style, apply openpyxl's default\")\n",
      "c:\\Users\\rasmu\\Documents\\projects\\P4\\.venv\\Lib\\site-packages\\openpyxl\\styles\\stylesheet.py:226: UserWarning: Workbook contains no default style, apply openpyxl's default\n",
      "  warn(\"Workbook contains no default style, apply openpyxl's default\")\n",
      "c:\\Users\\rasmu\\Documents\\projects\\P4\\.venv\\Lib\\site-packages\\openpyxl\\styles\\stylesheet.py:226: UserWarning: Workbook contains no default style, apply openpyxl's default\n",
      "  warn(\"Workbook contains no default style, apply openpyxl's default\")\n"
     ]
    }
   ],
   "source": [
    "# Load the vejman.dk data but use your own paths, these are just mine.\n",
    "data = pd.concat([create_dataframe(os.path.join(c.VEJMAN_DIR, file), year) for year, file in c.VEJMAN_FILES.items()])\n",
    "data.reset_index(drop=True, inplace=True)"
   ]
  },
  {
   "cell_type": "code",
   "execution_count": 8,
   "metadata": {},
   "outputs": [],
   "source": [
    "gdf = gpd.GeoDataFrame(data, geometry=gpd.points_from_xy(data.X_KOORDINAT, data.Y_KOORDINAT), crs=\"EPSG:25832\")"
   ]
  },
  {
   "cell_type": "code",
   "execution_count": 10,
   "metadata": {},
   "outputs": [],
   "source": [
    "gdf.to_file(c.VEJMAN_PATH, driver=\"GeoJSON\")"
   ]
  }
 ],
 "metadata": {
  "kernelspec": {
   "display_name": ".venv",
   "language": "python",
   "name": "python3"
  },
  "language_info": {
   "codemirror_mode": {
    "name": "ipython",
    "version": 3
   },
   "file_extension": ".py",
   "mimetype": "text/x-python",
   "name": "python",
   "nbconvert_exporter": "python",
   "pygments_lexer": "ipython3",
   "version": "3.11.6"
  }
 },
 "nbformat": 4,
 "nbformat_minor": 2
}
